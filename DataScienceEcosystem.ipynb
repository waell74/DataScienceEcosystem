{
 "cells": [
  {
   "cell_type": "markdown",
   "id": "72274f75-6f84-4851-a740-752a807f6a72",
   "metadata": {
    "tags": []
   },
   "source": [
    "### Exercise 2\n",
    "# DataScienceEcosystem\n",
    "\n"
   ]
  },
  {
   "cell_type": "markdown",
   "id": "ca360b17-5a2d-4d63-abef-7567957c46d6",
   "metadata": {},
   "source": [
    "# Exercise 3 \n",
    "#### THE INTRO\n",
    "## This is my last assignment of the \"tools for data science\" course"
   ]
  },
  {
   "cell_type": "markdown",
   "id": "985aeb03-6553-456d-a9a7-ae0479281a59",
   "metadata": {},
   "source": [
    "# Exercise 10 : Objectives\n",
    "\n",
    "  1-Create a Jupyter Notebook\n",
    "  \n",
    "  2-Create markdown cell with title of the notebook\n",
    "  \n",
    "  3-Create a markdown cell for an introduction\n",
    "  \n",
    "  4- Create a markdown cell to list data science languages\n",
    "  \n",
    "  5-Create a markdown cell to list data science libraries\n",
    "  \n",
    "  6-Create a markdown cell with a table of Data Science tools\n",
    "  \n",
    "  7-Create a markdown cell introducing arithmetic expression examples\n",
    "  \n",
    "  8-Create a code cell to multiply and add numbers\n",
    "  \n",
    "  9-Create a code cell to convert minutes to hours\n",
    "  \n",
    "  10- Insert a markdown cell to list Objectives\n",
    "  \n",
    "  11-Create a markdown cell to indicate the Author's name\n",
    "  \n",
    "  12-Share your notebook through GitHub\n",
    "  \n",
    "  13-Take a screenshot of the first page of the notebook "
   ]
  },
  {
   "cell_type": "markdown",
   "id": "62d97e6b-e435-480a-b33c-27b23bc390b3",
   "metadata": {},
   "source": [
    "# Exercise 4\n",
    "## data science languages are :\n",
    "    1:Python\n",
    "    2:R\n",
    "    3:SQL\n",
    "    4:scala\n",
    "    5:java\n",
    "    6:c++\n",
    "    7:julia\n",
    "    8:java script\n",
    "    9:php\n",
    "    10:go\n",
    "    and so on..."
   ]
  },
  {
   "cell_type": "markdown",
   "id": "98ef936a-864f-4beb-812c-c2c50db72c15",
   "metadata": {},
   "source": [
    "# Exercise 5\n",
    "## data science libraries are:\n",
    "    1:pandas\n",
    "    2:numpy\n",
    "    3:matplotlip\n",
    "    4:seaborn\n",
    "    5:keras\n",
    "    6:scikit-learn\n",
    "    7:tensorflow\n",
    "    8:pytorch\n",
    "    9:apache spark\n",
    "    10:vegas\n",
    "    11:big DL\n",
    "    12:ggplot2\n",
    "     and many more..."
   ]
  },
  {
   "cell_type": "markdown",
   "id": "83edc541-e579-45e6-999c-36006994c8c3",
   "metadata": {},
   "source": [
    "# Exercise 6\n",
    "## Data Science tools are :\n",
    "    1:mysql\n",
    "    2:mongoDB\n",
    "    3:apache cassandra\n",
    "    4:hadoop file system\n",
    "    5:ceph\n",
    "    6:apache airflow\n",
    "    7:kubeflow\n",
    "    8:NodeRed\n",
    "    9:pixie dust\n",
    "    10:Hue\n",
    "    11:kibana\n",
    "    12:seldon\n",
    "    13:mleap\n",
    "    14:tensorflow\n",
    "    15:ModelDB\n",
    "    16:promrtheus\n",
    "    17:git\n",
    "    18:github\n",
    "    19:apache atlas\n",
    "    20:kylo\n",
    "    21:oracle database\n",
    "    22:watson studio\n",
    "    23:spss modeler\n",
    "    24:datameer\n",
    "    25:amazon sagemaker"
   ]
  },
  {
   "cell_type": "markdown",
   "id": "d3c0cffe-1be7-4bff-b6f4-a81fa63cc175",
   "metadata": {},
   "source": [
    "# Exercise 7\n",
    "## ==>An arithmetic expression is an expression built up using numbers, arithmetic operators (such as +, , -, / and ) and parentheses, \"(\" and \")\".         Arithmetic expressions may also make use of exponents, for example, writing  23as an abreviation for ((22)2)."
   ]
  },
  {
   "cell_type": "markdown",
   "id": "674925c4-2b73-4eed-bc66-04d45139e6b2",
   "metadata": {},
   "source": [
    "##### Exercise 8 multiply and add numbers."
   ]
  },
  {
   "cell_type": "code",
   "execution_count": 2,
   "id": "50bbd722-05b7-4f82-a18c-16a8316550ef",
   "metadata": {
    "tags": []
   },
   "outputs": [
    {
     "data": {
      "text/plain": [
       "140"
      ]
     },
     "execution_count": 2,
     "metadata": {},
     "output_type": "execute_result"
    }
   ],
   "source": [
    "(8+20)*5"
   ]
  },
  {
   "cell_type": "markdown",
   "id": "28213aa6-8a4e-4ce7-bb01-c5265da0385b",
   "metadata": {},
   "source": [
    "#### Exercise 9: convert minutes to hours\n"
   ]
  },
  {
   "cell_type": "code",
   "execution_count": 7,
   "id": "cb3ac8f8-cd29-46c9-8451-6eb51e654bed",
   "metadata": {
    "tags": []
   },
   "outputs": [
    {
     "name": "stdout",
     "output_type": "stream",
     "text": [
      "60.0\n"
     ]
    }
   ],
   "source": [
    "mints=3600\n",
    "hours=mints/60\n",
    "print(hours)"
   ]
  },
  {
   "cell_type": "markdown",
   "id": "535d96dd-4a5e-44ae-b36d-4bdb0740f7f1",
   "metadata": {},
   "source": [
    "# exercise 11\n",
    "## Author\n",
    "    Mohamed wael"
   ]
  },
  {
   "cell_type": "code",
   "execution_count": null,
   "id": "5f28612a-c656-46b6-ab81-d15c04483881",
   "metadata": {},
   "outputs": [],
   "source": []
  }
 ],
 "metadata": {
  "kernelspec": {
   "display_name": "Python 3 (ipykernel)",
   "language": "python",
   "name": "python3"
  },
  "language_info": {
   "codemirror_mode": {
    "name": "ipython",
    "version": 3
   },
   "file_extension": ".py",
   "mimetype": "text/x-python",
   "name": "python",
   "nbconvert_exporter": "python",
   "pygments_lexer": "ipython3",
   "version": "3.11.5"
  }
 },
 "nbformat": 4,
 "nbformat_minor": 5
}
